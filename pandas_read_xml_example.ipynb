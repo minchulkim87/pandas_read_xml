{
  "nbformat": 4,
  "nbformat_minor": 0,
  "metadata": {
    "colab": {
      "name": "pandas_read_xml_example.ipynb",
      "provenance": [],
      "authorship_tag": "ABX9TyNvVBo6TEksVc3fmXrtyWbV",
      "include_colab_link": true
    },
    "kernelspec": {
      "name": "python3",
      "display_name": "Python 3"
    }
  },
  "cells": [
    {
      "cell_type": "markdown",
      "metadata": {
        "id": "view-in-github",
        "colab_type": "text"
      },
      "source": [
        "<a href=\"https://colab.research.google.com/github/minchulkim87/pandas_read_xml/blob/master/pandas_read_xml_example.ipynb\" target=\"_parent\"><img src=\"https://colab.research.google.com/assets/colab-badge.svg\" alt=\"Open In Colab\"/></a>"
      ]
    },
    {
      "cell_type": "code",
      "metadata": {
        "id": "jSx6LaJWXRrn"
      },
      "source": [
        "%%capture\n",
        "!pip install pandas_read_xml\n",
        " \n",
        "# restart runtime after this install to allow Google colab to use the updated packages."
      ],
      "execution_count": 39,
      "outputs": []
    },
    {
      "cell_type": "code",
      "metadata": {
        "id": "HkpJxWTzZJIY"
      },
      "source": [
        "test_xml = \"\"\"<?xml version=\"1.0\" encoding=\"UTF-8\"?>\n",
        "<!-- bookstore.xml -->\n",
        "<bookstore>\n",
        "  <book ISBN=\"0123456001\">\n",
        "    <title>Java For Dummies</title>\n",
        "    <author>Tan Ah Teck</author>\n",
        "    <category>Programming</category>\n",
        "    <year>2009</year>\n",
        "    <edition>7</edition>\n",
        "    <price>19.99</price>\n",
        "  </book>\n",
        "  <book ISBN=\"0123456002\">\n",
        "    <title>More Java For Dummies</title>\n",
        "    <author>Tan Ah Teck</author>\n",
        "    <category>Programming</category>\n",
        "    <year>2008</year>\n",
        "    <price>25.99</price>\n",
        "  </book>\n",
        "  <book ISBN=\"0123456010\">\n",
        "    <title>The Complete Guide to Fishing</title>\n",
        "    <author>Bill Jones</author>\n",
        "    <author>James Cook</author>\n",
        "    <author>Mary Turing</author>\n",
        "    <category>Fishing</category>\n",
        "    <category>Leisure</category>\n",
        "    <language>French</language>\n",
        "    <year>2000</year>\n",
        "    <edition>2</edition>\n",
        "    <price>49.99</price>\n",
        "  </book>\n",
        "</bookstore>\"\"\""
      ],
      "execution_count": 1,
      "outputs": []
    },
    {
      "cell_type": "code",
      "metadata": {
        "id": "gP9qICjKXXnI",
        "outputId": "dd416d1d-9ad5-40c8-f0fd-08b2a0f40718",
        "colab": {
          "base_uri": "https://localhost:8080/"
        }
      },
      "source": [
        "import pandas_read_xml as pdx\n",
        "from pandas_read_xml import flatten, fully_flatten, auto_separate_tables"
      ],
      "execution_count": 4,
      "outputs": [
        {
          "output_type": "stream",
          "text": [
            "/usr/local/lib/python3.7/dist-packages/requests/__init__.py:91: RequestsDependencyWarning: urllib3 (1.26.4) or chardet (3.0.4) doesn't match a supported version!\n",
            "  RequestsDependencyWarning)\n"
          ],
          "name": "stderr"
        }
      ]
    },
    {
      "cell_type": "code",
      "metadata": {
        "id": "FzPCJ3QeXmew",
        "colab": {
          "base_uri": "https://localhost:8080/",
          "height": 195
        },
        "outputId": "0329d912-7be8-43ab-acce-61900a5b450e"
      },
      "source": [
        "# See what the reading does\n",
        " \n",
        "df = pdx.read_xml(test_xml, ['bookstore'])\n",
        " \n",
        "df"
      ],
      "execution_count": 5,
      "outputs": [
        {
          "output_type": "execute_result",
          "data": {
            "text/html": [
              "<div>\n",
              "<style scoped>\n",
              "    .dataframe tbody tr th:only-of-type {\n",
              "        vertical-align: middle;\n",
              "    }\n",
              "\n",
              "    .dataframe tbody tr th {\n",
              "        vertical-align: top;\n",
              "    }\n",
              "\n",
              "    .dataframe thead th {\n",
              "        text-align: right;\n",
              "    }\n",
              "</style>\n",
              "<table border=\"1\" class=\"dataframe\">\n",
              "  <thead>\n",
              "    <tr style=\"text-align: right;\">\n",
              "      <th></th>\n",
              "      <th>book</th>\n",
              "    </tr>\n",
              "  </thead>\n",
              "  <tbody>\n",
              "    <tr>\n",
              "      <th>0</th>\n",
              "      <td>{'@ISBN': '0123456001', 'title': 'Java For Dum...</td>\n",
              "    </tr>\n",
              "    <tr>\n",
              "      <th>1</th>\n",
              "      <td>{'@ISBN': '0123456002', 'title': 'More Java Fo...</td>\n",
              "    </tr>\n",
              "    <tr>\n",
              "      <th>2</th>\n",
              "      <td>{'@ISBN': '0123456010', 'title': 'The Complete...</td>\n",
              "    </tr>\n",
              "  </tbody>\n",
              "</table>\n",
              "</div>"
            ],
            "text/plain": [
              "                                                book\n",
              "0  {'@ISBN': '0123456001', 'title': 'Java For Dum...\n",
              "1  {'@ISBN': '0123456002', 'title': 'More Java Fo...\n",
              "2  {'@ISBN': '0123456010', 'title': 'The Complete..."
            ]
          },
          "metadata": {
            "tags": []
          },
          "execution_count": 5
        }
      ]
    },
    {
      "cell_type": "code",
      "metadata": {
        "id": "hO3awtBjbY0a",
        "colab": {
          "base_uri": "https://localhost:8080/",
          "height": 250
        },
        "outputId": "8f4b295f-4e49-4ecd-bd0b-9e0fefc902a6"
      },
      "source": [
        "# See what \"flatten\" does\n",
        " \n",
        "df = df.pipe(flatten)\n",
        " \n",
        "df"
      ],
      "execution_count": 6,
      "outputs": [
        {
          "output_type": "execute_result",
          "data": {
            "text/html": [
              "<div>\n",
              "<style scoped>\n",
              "    .dataframe tbody tr th:only-of-type {\n",
              "        vertical-align: middle;\n",
              "    }\n",
              "\n",
              "    .dataframe tbody tr th {\n",
              "        vertical-align: top;\n",
              "    }\n",
              "\n",
              "    .dataframe thead th {\n",
              "        text-align: right;\n",
              "    }\n",
              "</style>\n",
              "<table border=\"1\" class=\"dataframe\">\n",
              "  <thead>\n",
              "    <tr style=\"text-align: right;\">\n",
              "      <th></th>\n",
              "      <th>book|@ISBN</th>\n",
              "      <th>book|title</th>\n",
              "      <th>book|author</th>\n",
              "      <th>book|category</th>\n",
              "      <th>book|year</th>\n",
              "      <th>book|edition</th>\n",
              "      <th>book|price</th>\n",
              "      <th>book|language</th>\n",
              "    </tr>\n",
              "  </thead>\n",
              "  <tbody>\n",
              "    <tr>\n",
              "      <th>0</th>\n",
              "      <td>0123456001</td>\n",
              "      <td>Java For Dummies</td>\n",
              "      <td>Tan Ah Teck</td>\n",
              "      <td>Programming</td>\n",
              "      <td>2009</td>\n",
              "      <td>7</td>\n",
              "      <td>19.99</td>\n",
              "      <td>NaN</td>\n",
              "    </tr>\n",
              "    <tr>\n",
              "      <th>1</th>\n",
              "      <td>0123456002</td>\n",
              "      <td>More Java For Dummies</td>\n",
              "      <td>Tan Ah Teck</td>\n",
              "      <td>Programming</td>\n",
              "      <td>2008</td>\n",
              "      <td>NaN</td>\n",
              "      <td>25.99</td>\n",
              "      <td>NaN</td>\n",
              "    </tr>\n",
              "    <tr>\n",
              "      <th>2</th>\n",
              "      <td>0123456010</td>\n",
              "      <td>The Complete Guide to Fishing</td>\n",
              "      <td>[Bill Jones, James Cook, Mary Turing]</td>\n",
              "      <td>[Fishing, Leisure]</td>\n",
              "      <td>2000</td>\n",
              "      <td>2</td>\n",
              "      <td>49.99</td>\n",
              "      <td>French</td>\n",
              "    </tr>\n",
              "  </tbody>\n",
              "</table>\n",
              "</div>"
            ],
            "text/plain": [
              "   book|@ISBN                     book|title  ... book|price book|language\n",
              "0  0123456001               Java For Dummies  ...      19.99           NaN\n",
              "1  0123456002          More Java For Dummies  ...      25.99           NaN\n",
              "2  0123456010  The Complete Guide to Fishing  ...      49.99        French\n",
              "\n",
              "[3 rows x 8 columns]"
            ]
          },
          "metadata": {
            "tags": []
          },
          "execution_count": 6
        }
      ]
    },
    {
      "cell_type": "code",
      "metadata": {
        "id": "ezlRmb4JYfan"
      },
      "source": [
        "# There are relational data implied here.\n",
        "# See what auto_separate_tables can do. Specify what the \"primary key\" would be.\n",
        "# Note that this \"magic\" cannot work on all solutions.\n",
        " \n",
        "key_columns = ['book|@ISBN']\n",
        " \n",
        "data = df.pipe(auto_separate_tables, key_columns)"
      ],
      "execution_count": 7,
      "outputs": []
    },
    {
      "cell_type": "code",
      "metadata": {
        "id": "Wjo9znGHY4nz",
        "colab": {
          "base_uri": "https://localhost:8080/"
        },
        "outputId": "53944c7c-03f3-43bc-957d-f93bb2d15f0b"
      },
      "source": [
        "# The resulting \"separated\" tables are stored as table_name: dataframe pairs.\n",
        " \n",
        "data.keys()"
      ],
      "execution_count": 8,
      "outputs": [
        {
          "output_type": "execute_result",
          "data": {
            "text/plain": [
              "dict_keys(['author', 'category', 'book'])"
            ]
          },
          "metadata": {
            "tags": []
          },
          "execution_count": 8
        }
      ]
    },
    {
      "cell_type": "code",
      "metadata": {
        "id": "zR5qBiLQZLzH",
        "colab": {
          "base_uri": "https://localhost:8080/",
          "height": 206
        },
        "outputId": "28fbeeae-f373-4d44-a23a-0e85795814d0"
      },
      "source": [
        "data['author']"
      ],
      "execution_count": 9,
      "outputs": [
        {
          "output_type": "execute_result",
          "data": {
            "text/html": [
              "<div>\n",
              "<style scoped>\n",
              "    .dataframe tbody tr th:only-of-type {\n",
              "        vertical-align: middle;\n",
              "    }\n",
              "\n",
              "    .dataframe tbody tr th {\n",
              "        vertical-align: top;\n",
              "    }\n",
              "\n",
              "    .dataframe thead th {\n",
              "        text-align: right;\n",
              "    }\n",
              "</style>\n",
              "<table border=\"1\" class=\"dataframe\">\n",
              "  <thead>\n",
              "    <tr style=\"text-align: right;\">\n",
              "      <th></th>\n",
              "      <th>@ISBN</th>\n",
              "      <th>author</th>\n",
              "    </tr>\n",
              "  </thead>\n",
              "  <tbody>\n",
              "    <tr>\n",
              "      <th>0</th>\n",
              "      <td>0123456010</td>\n",
              "      <td>Bill Jones</td>\n",
              "    </tr>\n",
              "    <tr>\n",
              "      <th>1</th>\n",
              "      <td>0123456010</td>\n",
              "      <td>James Cook</td>\n",
              "    </tr>\n",
              "    <tr>\n",
              "      <th>2</th>\n",
              "      <td>0123456010</td>\n",
              "      <td>Mary Turing</td>\n",
              "    </tr>\n",
              "    <tr>\n",
              "      <th>3</th>\n",
              "      <td>0123456001</td>\n",
              "      <td>Tan Ah Teck</td>\n",
              "    </tr>\n",
              "    <tr>\n",
              "      <th>4</th>\n",
              "      <td>0123456002</td>\n",
              "      <td>Tan Ah Teck</td>\n",
              "    </tr>\n",
              "  </tbody>\n",
              "</table>\n",
              "</div>"
            ],
            "text/plain": [
              "        @ISBN       author\n",
              "0  0123456010   Bill Jones\n",
              "1  0123456010   James Cook\n",
              "2  0123456010  Mary Turing\n",
              "3  0123456001  Tan Ah Teck\n",
              "4  0123456002  Tan Ah Teck"
            ]
          },
          "metadata": {
            "tags": []
          },
          "execution_count": 9
        }
      ]
    },
    {
      "cell_type": "code",
      "metadata": {
        "id": "RbWEavpZZQF_",
        "colab": {
          "base_uri": "https://localhost:8080/",
          "height": 174
        },
        "outputId": "1e43ba1e-6fd8-4ceb-c0d1-ca82521270b7"
      },
      "source": [
        "data['category']"
      ],
      "execution_count": 10,
      "outputs": [
        {
          "output_type": "execute_result",
          "data": {
            "text/html": [
              "<div>\n",
              "<style scoped>\n",
              "    .dataframe tbody tr th:only-of-type {\n",
              "        vertical-align: middle;\n",
              "    }\n",
              "\n",
              "    .dataframe tbody tr th {\n",
              "        vertical-align: top;\n",
              "    }\n",
              "\n",
              "    .dataframe thead th {\n",
              "        text-align: right;\n",
              "    }\n",
              "</style>\n",
              "<table border=\"1\" class=\"dataframe\">\n",
              "  <thead>\n",
              "    <tr style=\"text-align: right;\">\n",
              "      <th></th>\n",
              "      <th>@ISBN</th>\n",
              "      <th>category</th>\n",
              "    </tr>\n",
              "  </thead>\n",
              "  <tbody>\n",
              "    <tr>\n",
              "      <th>0</th>\n",
              "      <td>0123456010</td>\n",
              "      <td>Fishing</td>\n",
              "    </tr>\n",
              "    <tr>\n",
              "      <th>1</th>\n",
              "      <td>0123456010</td>\n",
              "      <td>Leisure</td>\n",
              "    </tr>\n",
              "    <tr>\n",
              "      <th>2</th>\n",
              "      <td>0123456001</td>\n",
              "      <td>Programming</td>\n",
              "    </tr>\n",
              "    <tr>\n",
              "      <th>3</th>\n",
              "      <td>0123456002</td>\n",
              "      <td>Programming</td>\n",
              "    </tr>\n",
              "  </tbody>\n",
              "</table>\n",
              "</div>"
            ],
            "text/plain": [
              "        @ISBN     category\n",
              "0  0123456010      Fishing\n",
              "1  0123456010      Leisure\n",
              "2  0123456001  Programming\n",
              "3  0123456002  Programming"
            ]
          },
          "metadata": {
            "tags": []
          },
          "execution_count": 10
        }
      ]
    },
    {
      "cell_type": "code",
      "metadata": {
        "id": "fcVZ-MBibQUX",
        "colab": {
          "base_uri": "https://localhost:8080/",
          "height": 267
        },
        "outputId": "ada3d494-a280-418d-8499-bbe106a6d014"
      },
      "source": [
        "data['book']"
      ],
      "execution_count": 11,
      "outputs": [
        {
          "output_type": "execute_result",
          "data": {
            "text/html": [
              "<div>\n",
              "<style scoped>\n",
              "    .dataframe tbody tr th:only-of-type {\n",
              "        vertical-align: middle;\n",
              "    }\n",
              "\n",
              "    .dataframe tbody tr th {\n",
              "        vertical-align: top;\n",
              "    }\n",
              "\n",
              "    .dataframe thead th {\n",
              "        text-align: right;\n",
              "    }\n",
              "</style>\n",
              "<table border=\"1\" class=\"dataframe\">\n",
              "  <thead>\n",
              "    <tr style=\"text-align: right;\">\n",
              "      <th></th>\n",
              "      <th>@ISBN</th>\n",
              "      <th>title</th>\n",
              "      <th>year</th>\n",
              "      <th>edition</th>\n",
              "      <th>price</th>\n",
              "      <th>language</th>\n",
              "    </tr>\n",
              "  </thead>\n",
              "  <tbody>\n",
              "    <tr>\n",
              "      <th>0</th>\n",
              "      <td>0123456001</td>\n",
              "      <td>Java For Dummies</td>\n",
              "      <td>2009</td>\n",
              "      <td>7</td>\n",
              "      <td>19.99</td>\n",
              "      <td>NaN</td>\n",
              "    </tr>\n",
              "    <tr>\n",
              "      <th>1</th>\n",
              "      <td>0123456002</td>\n",
              "      <td>More Java For Dummies</td>\n",
              "      <td>2008</td>\n",
              "      <td>NaN</td>\n",
              "      <td>25.99</td>\n",
              "      <td>NaN</td>\n",
              "    </tr>\n",
              "    <tr>\n",
              "      <th>2</th>\n",
              "      <td>0123456010</td>\n",
              "      <td>The Complete Guide to Fishing</td>\n",
              "      <td>2000</td>\n",
              "      <td>2</td>\n",
              "      <td>49.99</td>\n",
              "      <td>French</td>\n",
              "    </tr>\n",
              "  </tbody>\n",
              "</table>\n",
              "</div>"
            ],
            "text/plain": [
              "        @ISBN                          title  year edition  price language\n",
              "0  0123456001               Java For Dummies  2009       7  19.99      NaN\n",
              "1  0123456002          More Java For Dummies  2008     NaN  25.99      NaN\n",
              "2  0123456010  The Complete Guide to Fishing  2000       2  49.99   French"
            ]
          },
          "metadata": {
            "tags": []
          },
          "execution_count": 11
        }
      ]
    },
    {
      "cell_type": "code",
      "metadata": {
        "id": "KgnGhD4CbSE4"
      },
      "source": [
        ""
      ],
      "execution_count": null,
      "outputs": []
    }
  ]
}