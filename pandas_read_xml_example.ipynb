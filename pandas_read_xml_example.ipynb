{
  "nbformat": 4,
  "nbformat_minor": 0,
  "metadata": {
    "colab": {
      "name": "pandas_read_xml_example.ipynb",
      "provenance": [],
      "authorship_tag": "ABX9TyMjND3xvGHFiM3ppQqatdUv",
      "include_colab_link": true
    },
    "kernelspec": {
      "name": "python3",
      "display_name": "Python 3"
    }
  },
  "cells": [
    {
      "cell_type": "markdown",
      "metadata": {
        "id": "view-in-github",
        "colab_type": "text"
      },
      "source": [
        "<a href=\"https://colab.research.google.com/github/minchulkim87/pandas_read_xml/blob/master/pandas_read_xml_example.ipynb\" target=\"_parent\"><img src=\"https://colab.research.google.com/assets/colab-badge.svg\" alt=\"Open In Colab\"/></a>"
      ]
    },
    {
      "cell_type": "code",
      "metadata": {
        "id": "jSx6LaJWXRrn"
      },
      "source": [
        "%%capture\n",
        "!pip install pandas_read_xml\n",
        "\n",
        "# restart runtime after this install to allow Google colab to use the updated packages."
      ],
      "execution_count": 31,
      "outputs": []
    },
    {
      "cell_type": "code",
      "metadata": {
        "id": "HkpJxWTzZJIY"
      },
      "source": [
        "test_xml = \"\"\"<?xml version=\"1.0\" encoding=\"UTF-8\"?>\n",
        "<!-- bookstore.xml -->\n",
        "<bookstore>\n",
        "  <book ISBN=\"0123456001\">\n",
        "    <title>Java For Dummies</title>\n",
        "    <author>Tan Ah Teck</author>\n",
        "    <category>Programming</category>\n",
        "    <year>2009</year>\n",
        "    <edition>7</edition>\n",
        "    <price>19.99</price>\n",
        "  </book>\n",
        "  <book ISBN=\"0123456002\">\n",
        "    <title>More Java For Dummies</title>\n",
        "    <author>Tan Ah Teck</author>\n",
        "    <category>Programming</category>\n",
        "    <year>2008</year>\n",
        "    <price>25.99</price>\n",
        "  </book>\n",
        "  <book ISBN=\"0123456010\">\n",
        "    <title>The Complete Guide to Fishing</title>\n",
        "    <author>Bill Jones</author>\n",
        "    <author>James Cook</author>\n",
        "    <author>Mary Turing</author>\n",
        "    <category>Fishing</category>\n",
        "    <category>Leisure</category>\n",
        "    <language>French</language>\n",
        "    <year>2000</year>\n",
        "    <edition>2</edition>\n",
        "    <price>49.99</price>\n",
        "  </book>\n",
        "</bookstore>\"\"\""
      ],
      "execution_count": 32,
      "outputs": []
    },
    {
      "cell_type": "code",
      "metadata": {
        "id": "gP9qICjKXXnI"
      },
      "source": [
        "import pandas_read_xml as pdx\n",
        "from pandas_read_xml import flatten, fully_flatten, auto_separate_tables"
      ],
      "execution_count": 33,
      "outputs": []
    },
    {
      "cell_type": "code",
      "metadata": {
        "id": "FzPCJ3QeXmew",
        "colab": {
          "base_uri": "https://localhost:8080/",
          "height": 80
        },
        "outputId": "8834b3f6-61cd-42d5-dcba-1bab5e988e72"
      },
      "source": [
        "# See what the reading does\n",
        "\n",
        "df = pdx.read_xml(test_xml)\n",
        "\n",
        "df"
      ],
      "execution_count": 34,
      "outputs": [
        {
          "output_type": "execute_result",
          "data": {
            "text/html": [
              "<div>\n",
              "<style scoped>\n",
              "    .dataframe tbody tr th:only-of-type {\n",
              "        vertical-align: middle;\n",
              "    }\n",
              "\n",
              "    .dataframe tbody tr th {\n",
              "        vertical-align: top;\n",
              "    }\n",
              "\n",
              "    .dataframe thead th {\n",
              "        text-align: right;\n",
              "    }\n",
              "</style>\n",
              "<table border=\"1\" class=\"dataframe\">\n",
              "  <thead>\n",
              "    <tr style=\"text-align: right;\">\n",
              "      <th></th>\n",
              "      <th>bookstore</th>\n",
              "    </tr>\n",
              "  </thead>\n",
              "  <tbody>\n",
              "    <tr>\n",
              "      <th>book</th>\n",
              "      <td>[{'@ISBN': '0123456001', 'title': 'Java For Du...</td>\n",
              "    </tr>\n",
              "  </tbody>\n",
              "</table>\n",
              "</div>"
            ],
            "text/plain": [
              "                                              bookstore\n",
              "book  [{'@ISBN': '0123456001', 'title': 'Java For Du..."
            ]
          },
          "metadata": {
            "tags": []
          },
          "execution_count": 34
        }
      ]
    },
    {
      "cell_type": "code",
      "metadata": {
        "id": "hO3awtBjbY0a",
        "outputId": "91df515d-f147-4847-de7d-7f5b828cea5b",
        "colab": {
          "base_uri": "https://localhost:8080/",
          "height": 142
        }
      },
      "source": [
        "# See what \"flatten\" does\n",
        "\n",
        "df = df.pipe(flatten).pipe(flatten)\n",
        "\n",
        "df"
      ],
      "execution_count": 35,
      "outputs": [
        {
          "output_type": "execute_result",
          "data": {
            "text/html": [
              "<div>\n",
              "<style scoped>\n",
              "    .dataframe tbody tr th:only-of-type {\n",
              "        vertical-align: middle;\n",
              "    }\n",
              "\n",
              "    .dataframe tbody tr th {\n",
              "        vertical-align: top;\n",
              "    }\n",
              "\n",
              "    .dataframe thead th {\n",
              "        text-align: right;\n",
              "    }\n",
              "</style>\n",
              "<table border=\"1\" class=\"dataframe\">\n",
              "  <thead>\n",
              "    <tr style=\"text-align: right;\">\n",
              "      <th></th>\n",
              "      <th>bookstore|@ISBN</th>\n",
              "      <th>bookstore|title</th>\n",
              "      <th>bookstore|author</th>\n",
              "      <th>bookstore|category</th>\n",
              "      <th>bookstore|year</th>\n",
              "      <th>bookstore|edition</th>\n",
              "      <th>bookstore|price</th>\n",
              "      <th>bookstore|language</th>\n",
              "    </tr>\n",
              "  </thead>\n",
              "  <tbody>\n",
              "    <tr>\n",
              "      <th>0</th>\n",
              "      <td>0123456001</td>\n",
              "      <td>Java For Dummies</td>\n",
              "      <td>Tan Ah Teck</td>\n",
              "      <td>Programming</td>\n",
              "      <td>2009</td>\n",
              "      <td>7</td>\n",
              "      <td>19.99</td>\n",
              "      <td>NaN</td>\n",
              "    </tr>\n",
              "    <tr>\n",
              "      <th>1</th>\n",
              "      <td>0123456002</td>\n",
              "      <td>More Java For Dummies</td>\n",
              "      <td>Tan Ah Teck</td>\n",
              "      <td>Programming</td>\n",
              "      <td>2008</td>\n",
              "      <td>NaN</td>\n",
              "      <td>25.99</td>\n",
              "      <td>NaN</td>\n",
              "    </tr>\n",
              "    <tr>\n",
              "      <th>2</th>\n",
              "      <td>0123456010</td>\n",
              "      <td>The Complete Guide to Fishing</td>\n",
              "      <td>[Bill Jones, James Cook, Mary Turing]</td>\n",
              "      <td>[Fishing, Leisure]</td>\n",
              "      <td>2000</td>\n",
              "      <td>2</td>\n",
              "      <td>49.99</td>\n",
              "      <td>French</td>\n",
              "    </tr>\n",
              "  </tbody>\n",
              "</table>\n",
              "</div>"
            ],
            "text/plain": [
              "  bookstore|@ISBN  ... bookstore|language\n",
              "0      0123456001  ...                NaN\n",
              "1      0123456002  ...                NaN\n",
              "2      0123456010  ...             French\n",
              "\n",
              "[3 rows x 8 columns]"
            ]
          },
          "metadata": {
            "tags": []
          },
          "execution_count": 35
        }
      ]
    },
    {
      "cell_type": "code",
      "metadata": {
        "id": "ezlRmb4JYfan"
      },
      "source": [
        "# There are relational data implied here.\n",
        "# See what auto_separate_tables can do. Specify what the \"primary key\" would be.\n",
        "# Note that this \"magic\" cannot work on all solutions.\n",
        "\n",
        "key_columns = ['bookstore|@ISBN']\n",
        "\n",
        "data = df.pipe(auto_separate_tables, key_columns)"
      ],
      "execution_count": 36,
      "outputs": []
    },
    {
      "cell_type": "code",
      "metadata": {
        "id": "Wjo9znGHY4nz",
        "colab": {
          "base_uri": "https://localhost:8080/"
        },
        "outputId": "a3e82ea5-8c59-44f4-8e76-c9f409db31e9"
      },
      "source": [
        "# The resulting \"separated\" tables are stored as table_name: dataframe pairs.\n",
        "\n",
        "data.keys()"
      ],
      "execution_count": 37,
      "outputs": [
        {
          "output_type": "execute_result",
          "data": {
            "text/plain": [
              "dict_keys(['author', 'category', 'bookstore'])"
            ]
          },
          "metadata": {
            "tags": []
          },
          "execution_count": 37
        }
      ]
    },
    {
      "cell_type": "code",
      "metadata": {
        "id": "zR5qBiLQZLzH",
        "colab": {
          "base_uri": "https://localhost:8080/",
          "height": 204
        },
        "outputId": "16054f6b-5666-44f1-b57e-0911e1783e2c"
      },
      "source": [
        "data['author']"
      ],
      "execution_count": 38,
      "outputs": [
        {
          "output_type": "execute_result",
          "data": {
            "text/html": [
              "<div>\n",
              "<style scoped>\n",
              "    .dataframe tbody tr th:only-of-type {\n",
              "        vertical-align: middle;\n",
              "    }\n",
              "\n",
              "    .dataframe tbody tr th {\n",
              "        vertical-align: top;\n",
              "    }\n",
              "\n",
              "    .dataframe thead th {\n",
              "        text-align: right;\n",
              "    }\n",
              "</style>\n",
              "<table border=\"1\" class=\"dataframe\">\n",
              "  <thead>\n",
              "    <tr style=\"text-align: right;\">\n",
              "      <th></th>\n",
              "      <th>@ISBN</th>\n",
              "      <th>author</th>\n",
              "    </tr>\n",
              "  </thead>\n",
              "  <tbody>\n",
              "    <tr>\n",
              "      <th>0</th>\n",
              "      <td>0123456010</td>\n",
              "      <td>Bill Jones</td>\n",
              "    </tr>\n",
              "    <tr>\n",
              "      <th>1</th>\n",
              "      <td>0123456010</td>\n",
              "      <td>James Cook</td>\n",
              "    </tr>\n",
              "    <tr>\n",
              "      <th>2</th>\n",
              "      <td>0123456010</td>\n",
              "      <td>Mary Turing</td>\n",
              "    </tr>\n",
              "    <tr>\n",
              "      <th>3</th>\n",
              "      <td>0123456001</td>\n",
              "      <td>Tan Ah Teck</td>\n",
              "    </tr>\n",
              "    <tr>\n",
              "      <th>4</th>\n",
              "      <td>0123456002</td>\n",
              "      <td>Tan Ah Teck</td>\n",
              "    </tr>\n",
              "  </tbody>\n",
              "</table>\n",
              "</div>"
            ],
            "text/plain": [
              "        @ISBN       author\n",
              "0  0123456010   Bill Jones\n",
              "1  0123456010   James Cook\n",
              "2  0123456010  Mary Turing\n",
              "3  0123456001  Tan Ah Teck\n",
              "4  0123456002  Tan Ah Teck"
            ]
          },
          "metadata": {
            "tags": []
          },
          "execution_count": 38
        }
      ]
    },
    {
      "cell_type": "code",
      "metadata": {
        "id": "RbWEavpZZQF_",
        "colab": {
          "base_uri": "https://localhost:8080/",
          "height": 173
        },
        "outputId": "376219f9-d0c7-470d-c18d-ec448360d357"
      },
      "source": [
        "data['category']"
      ],
      "execution_count": 27,
      "outputs": [
        {
          "output_type": "execute_result",
          "data": {
            "text/html": [
              "<div>\n",
              "<style scoped>\n",
              "    .dataframe tbody tr th:only-of-type {\n",
              "        vertical-align: middle;\n",
              "    }\n",
              "\n",
              "    .dataframe tbody tr th {\n",
              "        vertical-align: top;\n",
              "    }\n",
              "\n",
              "    .dataframe thead th {\n",
              "        text-align: right;\n",
              "    }\n",
              "</style>\n",
              "<table border=\"1\" class=\"dataframe\">\n",
              "  <thead>\n",
              "    <tr style=\"text-align: right;\">\n",
              "      <th></th>\n",
              "      <th>@ISBN</th>\n",
              "      <th>category</th>\n",
              "    </tr>\n",
              "  </thead>\n",
              "  <tbody>\n",
              "    <tr>\n",
              "      <th>0</th>\n",
              "      <td>0123456010</td>\n",
              "      <td>Fishing</td>\n",
              "    </tr>\n",
              "    <tr>\n",
              "      <th>1</th>\n",
              "      <td>0123456010</td>\n",
              "      <td>Leisure</td>\n",
              "    </tr>\n",
              "    <tr>\n",
              "      <th>2</th>\n",
              "      <td>0123456001</td>\n",
              "      <td>Programming</td>\n",
              "    </tr>\n",
              "    <tr>\n",
              "      <th>3</th>\n",
              "      <td>0123456002</td>\n",
              "      <td>Programming</td>\n",
              "    </tr>\n",
              "  </tbody>\n",
              "</table>\n",
              "</div>"
            ],
            "text/plain": [
              "        @ISBN     category\n",
              "0  0123456010      Fishing\n",
              "1  0123456010      Leisure\n",
              "2  0123456001  Programming\n",
              "3  0123456002  Programming"
            ]
          },
          "metadata": {
            "tags": []
          },
          "execution_count": 27
        }
      ]
    },
    {
      "cell_type": "code",
      "metadata": {
        "id": "fcVZ-MBibQUX",
        "outputId": "707b12e6-5362-4e5a-8ee0-d10d1abecc24",
        "colab": {
          "base_uri": "https://localhost:8080/",
          "height": 142
        }
      },
      "source": [
        "data['bookstore']"
      ],
      "execution_count": 28,
      "outputs": [
        {
          "output_type": "execute_result",
          "data": {
            "text/html": [
              "<div>\n",
              "<style scoped>\n",
              "    .dataframe tbody tr th:only-of-type {\n",
              "        vertical-align: middle;\n",
              "    }\n",
              "\n",
              "    .dataframe tbody tr th {\n",
              "        vertical-align: top;\n",
              "    }\n",
              "\n",
              "    .dataframe thead th {\n",
              "        text-align: right;\n",
              "    }\n",
              "</style>\n",
              "<table border=\"1\" class=\"dataframe\">\n",
              "  <thead>\n",
              "    <tr style=\"text-align: right;\">\n",
              "      <th></th>\n",
              "      <th>@ISBN</th>\n",
              "      <th>title</th>\n",
              "      <th>year</th>\n",
              "      <th>edition</th>\n",
              "      <th>price</th>\n",
              "      <th>language</th>\n",
              "    </tr>\n",
              "  </thead>\n",
              "  <tbody>\n",
              "    <tr>\n",
              "      <th>0</th>\n",
              "      <td>0123456001</td>\n",
              "      <td>Java For Dummies</td>\n",
              "      <td>2009</td>\n",
              "      <td>7</td>\n",
              "      <td>19.99</td>\n",
              "      <td>NaN</td>\n",
              "    </tr>\n",
              "    <tr>\n",
              "      <th>1</th>\n",
              "      <td>0123456002</td>\n",
              "      <td>More Java For Dummies</td>\n",
              "      <td>2008</td>\n",
              "      <td>NaN</td>\n",
              "      <td>25.99</td>\n",
              "      <td>NaN</td>\n",
              "    </tr>\n",
              "    <tr>\n",
              "      <th>2</th>\n",
              "      <td>0123456010</td>\n",
              "      <td>The Complete Guide to Fishing</td>\n",
              "      <td>2000</td>\n",
              "      <td>2</td>\n",
              "      <td>49.99</td>\n",
              "      <td>French</td>\n",
              "    </tr>\n",
              "  </tbody>\n",
              "</table>\n",
              "</div>"
            ],
            "text/plain": [
              "        @ISBN                          title  year edition  price language\n",
              "0  0123456001               Java For Dummies  2009       7  19.99      NaN\n",
              "1  0123456002          More Java For Dummies  2008     NaN  25.99      NaN\n",
              "2  0123456010  The Complete Guide to Fishing  2000       2  49.99   French"
            ]
          },
          "metadata": {
            "tags": []
          },
          "execution_count": 28
        }
      ]
    },
    {
      "cell_type": "code",
      "metadata": {
        "id": "KgnGhD4CbSE4"
      },
      "source": [
        ""
      ],
      "execution_count": null,
      "outputs": []
    }
  ]
}